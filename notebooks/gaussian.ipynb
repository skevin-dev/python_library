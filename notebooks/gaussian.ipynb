{
 "cells": [
  {
   "cell_type": "code",
   "execution_count": 1,
   "id": "a1061ba4",
   "metadata": {},
   "outputs": [],
   "source": [
    "import sys\n",
    "import os\n",
    "\n",
    "sys.path.append(os.path.abspath(os.path.join('..')))\n",
    "from Scripts.gaussian import Gaussian"
   ]
  },
  {
   "cell_type": "code",
   "execution_count": 2,
   "id": "fb59035e",
   "metadata": {},
   "outputs": [],
   "source": [
    "G = Gaussian()"
   ]
  },
  {
   "cell_type": "code",
   "execution_count": 3,
   "id": "8f11eaab",
   "metadata": {},
   "outputs": [],
   "source": [
    "G.read_data_file(\"../Data/numbers.txt\")"
   ]
  },
  {
   "cell_type": "code",
   "execution_count": 4,
   "id": "cedee700",
   "metadata": {},
   "outputs": [
    {
     "name": "stdout",
     "output_type": "stream",
     "text": [
      "78.0909090909091\n",
      "92.87459776004906\n"
     ]
    }
   ],
   "source": [
    "print(G.mean)\n",
    "print(G.stdev)"
   ]
  },
  {
   "cell_type": "code",
   "execution_count": 5,
   "id": "73aa9ee4",
   "metadata": {},
   "outputs": [
    {
     "data": {
      "image/png": "[encoded data removed]",
      "text/plain": [
       "<Figure size 432x288 with 1 Axes>"
      ]
     },
     "metadata": {
      "needs_background": "light"
     },
     "output_type": "display_data"
    }
   ],
   "source": [
    "G.plot_histogram()"
   ]
  },
  {
   "cell_type": "code",
   "execution_count": null,
   "id": "4886d145",
   "metadata": {},
   "outputs": [],
   "source": []
  }
 ],
 "metadata": {
  "kernelspec": {
   "display_name": "Python 3",
   "language": "python",
   "name": "python3"
  },
  "language_info": {
   "codemirror_mode": {
    "name": "ipython",
    "version": 3
   },
   "file_extension": ".py",
   "mimetype": "text/x-python",
   "name": "python",
   "nbconvert_exporter": "python",
   "pygments_lexer": "ipython3",
   "version": "3.8.8"
  }
 },
 "nbformat": 4,
 "nbformat_minor": 5
}
